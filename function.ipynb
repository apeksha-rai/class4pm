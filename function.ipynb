{
 "cells": [
  {
   "cell_type": "code",
   "execution_count": 1,
   "metadata": {},
   "outputs": [],
   "source": [
    "# print()\n",
    "# type()\n",
    "# int()\n",
    "# str()\n",
    "# float()\n",
    "# input()"
   ]
  },
  {
   "cell_type": "code",
   "execution_count": 2,
   "metadata": {},
   "outputs": [],
   "source": [
    "# def <function_name>():  #function defining\n",
    "#     <operations>\n",
    "    \n",
    "# <function_name>()   #function calling"
   ]
  },
  {
   "cell_type": "code",
   "execution_count": 4,
   "metadata": {},
   "outputs": [
    {
     "name": "stdout",
     "output_type": "stream",
     "text": [
      "Hello World\n"
     ]
    }
   ],
   "source": [
    "def hello():\n",
    "    print(\"Hello World\")\n",
    "\n",
    "hello()"
   ]
  },
  {
   "cell_type": "code",
   "execution_count": 7,
   "metadata": {},
   "outputs": [],
   "source": [
    "def area():\n",
    "    l = int(input(\"Enter l = \"))\n",
    "    b = int(input(\"Enter b = \"))\n",
    "    a = l*b\n",
    "    print(\"The area is = \",a)\n",
    "    \n",
    "area()"
   ]
  },
  {
   "cell_type": "code",
   "execution_count": 2,
   "metadata": {},
   "outputs": [
    {
     "name": "stdout",
     "output_type": "stream",
     "text": [
      "Enter p = 1000\n",
      "Enter t = 2\n",
      "Enter r = 3\n",
      "The value of i =  60.0\n"
     ]
    }
   ],
   "source": [
    "def cal():\n",
    "    p = int(input(\"Enter p = \")) #local variable\n",
    "    t = int(input(\"Enter t = \")) #local variable\n",
    "    r = int(input(\"Enter r = \")) #local variable\n",
    "    i = p*t*r/100 #local variable\n",
    "    print(\"The value of i = \",i)\n",
    "    \n",
    "cal()\n"
   ]
  },
  {
   "cell_type": "code",
   "execution_count": 5,
   "metadata": {},
   "outputs": [
    {
     "name": "stdout",
     "output_type": "stream",
     "text": [
      "Enter p = 100\n",
      "Enter t = 4\n",
      "Enter r = 3\n",
      "The value of i =  12.0\n",
      "100 4 3\n"
     ]
    }
   ],
   "source": [
    "p = int(input(\"Enter p = \")) #Global variable\n",
    "t = int(input(\"Enter t = \")) #Global variable\n",
    "r = int(input(\"Enter r = \")) #Global variable\n",
    "\n",
    "def cal():\n",
    "    i = p*t*r/100 #local variable\n",
    "    print(\"The value of i = \",i)\n",
    "\n",
    "cal()\n",
    "print(p,t,r)"
   ]
  },
  {
   "cell_type": "code",
   "execution_count": null,
   "metadata": {},
   "outputs": [],
   "source": [
    "# function with no arguments and no return type\n",
    "# function with arguments and no return type\n",
    "# function with no arguments and return type\n",
    "# function with arguments and return type"
   ]
  },
  {
   "cell_type": "code",
   "execution_count": null,
   "metadata": {},
   "outputs": [],
   "source": [
    "# function with no arguments and no return type\n",
    "p = int(input(\"Enter p = \")) #Global variable\n",
    "t = int(input(\"Enter t = \")) #Global variable\n",
    "r = int(input(\"Enter r = \")) #Global variable\n",
    "\n",
    "def cal():\n",
    "    i = p*t*r/100 #local variable\n",
    "    print(\"The value of i = \",i)\n",
    "\n",
    "cal()\n",
    "print(p,t,r)"
   ]
  },
  {
   "cell_type": "code",
   "execution_count": null,
   "metadata": {},
   "outputs": [],
   "source": [
    "# function with no arguments and no return type\n",
    "def area():\n",
    "    l = int(input(\"Enter l = \"))\n",
    "    b = int(input(\"Enter b = \"))\n",
    "    a = l*b\n",
    "    print(\"The area is = \",a)\n",
    "    \n",
    "area()"
   ]
  },
  {
   "cell_type": "code",
   "execution_count": null,
   "metadata": {},
   "outputs": [],
   "source": [
    "# function with arguments and no return type\n",
    "# def <function_name>(a,b,c):\n",
    "#     <operations>\n",
    "    \n",
    "# <function_name>(a,b,c)"
   ]
  },
  {
   "cell_type": "code",
   "execution_count": 6,
   "metadata": {},
   "outputs": [
    {
     "name": "stdout",
     "output_type": "stream",
     "text": [
      "40\n"
     ]
    }
   ],
   "source": [
    "# function with arguments and no return type\n",
    "def area(l,b):\n",
    "    a = l*b\n",
    "    print(a)\n",
    "\n",
    "area(10,4)"
   ]
  },
  {
   "cell_type": "code",
   "execution_count": 7,
   "metadata": {},
   "outputs": [
    {
     "name": "stdout",
     "output_type": "stream",
     "text": [
      "Enter l = 100\n",
      "Enter b = 23\n",
      "2300\n"
     ]
    }
   ],
   "source": [
    "# function with arguments and no return type\n",
    "def area(l,b):\n",
    "    a = l*b\n",
    "    print(a)\n",
    "\n",
    "l = int(input(\"Enter l = \"))\n",
    "b = int(input(\"Enter b = \"))\n",
    "area(l,b)"
   ]
  },
  {
   "cell_type": "code",
   "execution_count": 8,
   "metadata": {},
   "outputs": [
    {
     "name": "stdout",
     "output_type": "stream",
     "text": [
      "Enter l = 100\n",
      "Enter b = 23\n",
      "2300\n"
     ]
    }
   ],
   "source": [
    "# function with arguments and no return type\n",
    "l = int(input(\"Enter l = \"))\n",
    "b = int(input(\"Enter b = \"))\n",
    "\n",
    "def area(x,y):\n",
    "    a = x*y\n",
    "    print(a)\n",
    "\n",
    "area(l,b)"
   ]
  },
  {
   "cell_type": "code",
   "execution_count": 9,
   "metadata": {},
   "outputs": [
    {
     "name": "stdout",
     "output_type": "stream",
     "text": [
      "Enter l = 100\n",
      "Enter b = 23\n",
      "Enter h = 43\n",
      "2300\n",
      "98900\n"
     ]
    }
   ],
   "source": [
    "# function with arguments and no return type\n",
    "l = int(input(\"Enter l = \"))\n",
    "b = int(input(\"Enter b = \"))\n",
    "h = int(input(\"Enter h = \"))\n",
    "def area(x,y):\n",
    "    a = x*y\n",
    "    print(\"The area is =\",a)\n",
    "def volume(x,y,z):\n",
    "    v = x*y*z\n",
    "    print(\"The volume is = \",v)\n",
    "    \n",
    "area(l,b)\n",
    "volume(l,b,h)"
   ]
  },
  {
   "cell_type": "code",
   "execution_count": 11,
   "metadata": {},
   "outputs": [
    {
     "name": "stdout",
     "output_type": "stream",
     "text": [
      "C\n",
      "C++\n",
      "Java\n",
      "Python\n"
     ]
    }
   ],
   "source": [
    "def language(lan = \"Python\"):\n",
    "    print(lan)\n",
    "    \n",
    "language(\"C\")\n",
    "language(\"C++\")\n",
    "language(\"Java\")\n",
    "language()"
   ]
  },
  {
   "cell_type": "code",
   "execution_count": 22,
   "metadata": {},
   "outputs": [
    {
     "name": "stdout",
     "output_type": "stream",
     "text": [
      "300\n",
      "2000\n"
     ]
    }
   ],
   "source": [
    "# function with arguments and no return type\n",
    "def area(l,b = 20):\n",
    "    a = l*b\n",
    "    print(a)\n",
    "\n",
    "area(10,30)\n",
    "area(100)"
   ]
  },
  {
   "cell_type": "code",
   "execution_count": 25,
   "metadata": {},
   "outputs": [
    {
     "name": "stdout",
     "output_type": "stream",
     "text": [
      "Hello World\n"
     ]
    }
   ],
   "source": [
    "# return type function\n",
    "def hello():\n",
    "    a = \"Hello World\"\n",
    "    return a\n",
    "    \n",
    "print(hello())"
   ]
  },
  {
   "cell_type": "code",
   "execution_count": 26,
   "metadata": {},
   "outputs": [
    {
     "name": "stdout",
     "output_type": "stream",
     "text": [
      "Hello World\n"
     ]
    }
   ],
   "source": [
    "# return type function\n",
    "def hello():\n",
    "    a = \"Hello World\"\n",
    "    return a\n",
    "    \n",
    "b = hello()\n",
    "print(b)"
   ]
  },
  {
   "cell_type": "code",
   "execution_count": 27,
   "metadata": {},
   "outputs": [
    {
     "name": "stdout",
     "output_type": "stream",
     "text": [
      "Enter l = 100\n",
      "Enter b = 23\n",
      "The area is =  2300\n",
      "The volume is =  23000\n"
     ]
    }
   ],
   "source": [
    "def area():\n",
    "    l = int(input(\"Enter l = \"))\n",
    "    b = int(input(\"Enter b = \"))\n",
    "    a = l*b\n",
    "    return a\n",
    "\n",
    "ar = area()\n",
    "print(\"The area is = \",ar)\n",
    "h = int(input(\"Enter h = \"))\n",
    "v = ar*h\n",
    "print(\"The volume is = \",v)"
   ]
  },
  {
   "cell_type": "code",
   "execution_count": 2,
   "metadata": {},
   "outputs": [
    {
     "name": "stdout",
     "output_type": "stream",
     "text": [
      "Enter name = Ram\n",
      "Enter age = 78\n",
      "Enter address = Kathmandu\n"
     ]
    },
    {
     "data": {
      "text/plain": [
       "'Hello my name is Ram I am 78 I am from Kathmandu'"
      ]
     },
     "execution_count": 2,
     "metadata": {},
     "output_type": "execute_result"
    }
   ],
   "source": [
    "# function with arguments and return type\n",
    "def info(name,age,add):\n",
    "    info = \"Hello my name is \"+name+\" I am \"+str(age)+\" I am from \"+add\n",
    "    return info\n",
    "\n",
    "name = input(\"Enter name = \")\n",
    "age = int(input(\"Enter age = \"))\n",
    "add = input(\"Enter address = \")\n",
    "\n",
    "print(info(name,age,add))"
   ]
  },
  {
   "cell_type": "code",
   "execution_count": 6,
   "metadata": {},
   "outputs": [
    {
     "name": "stdout",
     "output_type": "stream",
     "text": [
      "Enter l= 100\n",
      "Enter b= 3\n",
      "Enter h= 2\n",
      "(300, 600)\n",
      "The area is =  2300\n",
      "The volume =  4600\n"
     ]
    }
   ],
   "source": [
    "def cal(l,b,h):\n",
    "    a = l*b\n",
    "    v = l*b*h\n",
    "    return a,v\n",
    "\n",
    "l = int(input(\"Enter l= \"))\n",
    "b = int(input(\"Enter b= \"))\n",
    "h = int(input(\"Enter h= \"))\n",
    "\n",
    "area,volume = cal(l,b,h)\n",
    "print(\"The area is = \",area)\n",
    "print(\"The volume = \",volume)"
   ]
  },
  {
   "cell_type": "code",
   "execution_count": 7,
   "metadata": {},
   "outputs": [
    {
     "name": "stdout",
     "output_type": "stream",
     "text": [
      "Enter l= 100\n",
      "Enter b= 2\n",
      "Enter h= 3\n",
      "The area is =  200\n",
      "The volume =  600\n"
     ]
    }
   ],
   "source": [
    "def area(l,b):\n",
    "    a = l*b\n",
    "    return a\n",
    "def volume(l,b,h):\n",
    "    v = l*b*h\n",
    "    return v\n",
    "\n",
    "l = int(input(\"Enter l= \"))\n",
    "b = int(input(\"Enter b= \"))\n",
    "h = int(input(\"Enter h= \"))\n",
    "\n",
    "ar = area(l,b)\n",
    "vo = volume(l,b,h)\n",
    "print(\"The area is = \",ar)\n",
    "print(\"The volume = \",vo)"
   ]
  },
  {
   "cell_type": "code",
   "execution_count": 8,
   "metadata": {},
   "outputs": [
    {
     "name": "stdout",
     "output_type": "stream",
     "text": [
      "Enter l= 100\n",
      "Enter b= 2\n",
      "Enter h= 3\n",
      "The area is =  200\n",
      "The volume =  600\n"
     ]
    }
   ],
   "source": [
    "def area(l,b):\n",
    "    a = l*b\n",
    "    return a\n",
    "def volume(l,b,h):\n",
    "    v = area(l,b)*h\n",
    "    return v\n",
    "\n",
    "l = int(input(\"Enter l= \"))\n",
    "b = int(input(\"Enter b= \"))\n",
    "h = int(input(\"Enter h= \"))\n",
    "\n",
    "ar = area(l,b)\n",
    "vo = volume(l,b,h)\n",
    "print(\"The area is = \",ar)\n",
    "print(\"The volume = \",vo)"
   ]
  },
  {
   "cell_type": "code",
   "execution_count": 1,
   "metadata": {},
   "outputs": [
    {
     "name": "stdout",
     "output_type": "stream",
     "text": [
      "Enter name = Ram\n",
      "Enter age = 45\n",
      "Enter address = Kathmandu\n",
      "Hello my name is Ram I am 45 I am from Kathmandu\n"
     ]
    }
   ],
   "source": [
    "# function with arguments(tuple or array) and return type\n",
    "def info(x):\n",
    "    a,b,c = x\n",
    "    i = \"Hello my name is \"+c+\" I am \"+str(a)+\" I am from \"+b\n",
    "    return i\n",
    "\n",
    "name = input(\"Enter name = \")\n",
    "age = int(input(\"Enter age = \"))\n",
    "add = input(\"Enter address = \")\n",
    "\n",
    "x = (age,add,name)\n",
    "print(info(x))"
   ]
  },
  {
   "cell_type": "code",
   "execution_count": 7,
   "metadata": {},
   "outputs": [
    {
     "name": "stdout",
     "output_type": "stream",
     "text": [
      "Hello World\n",
      "Enter y for more calculatios =y\n",
      "Hello World\n",
      "Enter y for more calculatios =jhgj\n"
     ]
    }
   ],
   "source": [
    "# Recursive function\n",
    "def hello():\n",
    "    print(\"Hello World\")\n",
    "    x = input(\"Enter y for more calculatios =\")\n",
    "    if x == 'y':\n",
    "        hello()\n",
    "    \n",
    "    \n",
    "    \n",
    "hello()"
   ]
  },
  {
   "cell_type": "code",
   "execution_count": 8,
   "metadata": {},
   "outputs": [
    {
     "name": "stdout",
     "output_type": "stream",
     "text": [
      "Enter p = 100\n",
      "Enter t = 2\n",
      "Enter r = 3\n",
      "The i =  6.0\n",
      "Enter y for more calculations = y\n",
      "Enter p = 1000\n",
      "Enter t = 2\n",
      "Enter r = 3\n",
      "The i =  60.0\n",
      "Enter y for more calculations = jhjhg\n"
     ]
    }
   ],
   "source": [
    "def cal():\n",
    "    p = float(input(\"Enter p = \"))\n",
    "    t = float(input(\"Enter t = \"))\n",
    "    r = float(input(\"Enter r = \"))\n",
    "    i = p*t*r/100\n",
    "    print(\"The i = \",i)\n",
    "    x = input(\"Enter y for more calculations = \")\n",
    "    if x == 'y':\n",
    "        cal()\n",
    "\n",
    "cal()"
   ]
  },
  {
   "cell_type": "code",
   "execution_count": 11,
   "metadata": {},
   "outputs": [
    {
     "name": "stdout",
     "output_type": "stream",
     "text": [
      "3.141592653589793\n"
     ]
    }
   ],
   "source": [
    "# Math function\n",
    "import math as m\n",
    "print(m.pi)"
   ]
  },
  {
   "cell_type": "code",
   "execution_count": 13,
   "metadata": {},
   "outputs": [
    {
     "name": "stdout",
     "output_type": "stream",
     "text": [
      "Enter radius = 7\n",
      "The area is =  153.93804002589985\n"
     ]
    }
   ],
   "source": [
    "import math as m\n",
    "def area(r):\n",
    "    a = m.pi*m.pow(r,2)\n",
    "    return a\n",
    "\n",
    "r = float(input(\"Enter radius = \"))\n",
    "# ar = area(r)\n",
    "print(\"The area is = \",area(r))"
   ]
  },
  {
   "cell_type": "code",
   "execution_count": 17,
   "metadata": {},
   "outputs": [
    {
     "name": "stdout",
     "output_type": "stream",
     "text": [
      "sin -- 0.7071067811865476\n",
      "cos -- 0.7071067811865476\n",
      "tan -- 0.9999999999999999\n"
     ]
    }
   ],
   "source": [
    "a = m.pi/4\n",
    "print(\"sin --\",m.sin(a))\n",
    "print(\"cos --\",m.cos(a))\n",
    "print(\"tan --\",m.tan(a))"
   ]
  },
  {
   "cell_type": "code",
   "execution_count": 21,
   "metadata": {},
   "outputs": [
    {
     "name": "stdout",
     "output_type": "stream",
     "text": [
      "0.5235987755982989\n"
     ]
    }
   ],
   "source": [
    "t = 0.5\n",
    "print(m.asin(t))"
   ]
  },
  {
   "cell_type": "code",
   "execution_count": 23,
   "metadata": {},
   "outputs": [
    {
     "name": "stdout",
     "output_type": "stream",
     "text": [
      "1.0\n"
     ]
    }
   ],
   "source": [
    "import math as m\n",
    "a = m.pi/2\n",
    "x = m.sin(a)\n",
    "y = m.cos(a)\n",
    "r = m.pow(x,2)+m.pow(y,2)\n",
    "print(r)"
   ]
  },
  {
   "cell_type": "code",
   "execution_count": null,
   "metadata": {},
   "outputs": [],
   "source": []
  }
 ],
 "metadata": {
  "kernelspec": {
   "display_name": "Python 3",
   "language": "python",
   "name": "python3"
  },
  "language_info": {
   "codemirror_mode": {
    "name": "ipython",
    "version": 3
   },
   "file_extension": ".py",
   "mimetype": "text/x-python",
   "name": "python",
   "nbconvert_exporter": "python",
   "pygments_lexer": "ipython3",
   "version": "3.7.1"
  }
 },
 "nbformat": 4,
 "nbformat_minor": 2
}
