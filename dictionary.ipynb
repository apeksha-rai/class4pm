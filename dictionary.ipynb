{
 "cells": [
  {
   "cell_type": "code",
   "execution_count": 1,
   "metadata": {},
   "outputs": [],
   "source": [
    "# a = {}\n",
    "# a = {<key>:<value>,<key>:<value>,<key>:<value>}"
   ]
  },
  {
   "cell_type": "code",
   "execution_count": 2,
   "metadata": {},
   "outputs": [
    {
     "data": {
      "text/plain": [
       "dict"
      ]
     },
     "execution_count": 2,
     "metadata": {},
     "output_type": "execute_result"
    }
   ],
   "source": [
    "a = {}\n",
    "type(a)"
   ]
  },
  {
   "cell_type": "code",
   "execution_count": 4,
   "metadata": {},
   "outputs": [
    {
     "name": "stdout",
     "output_type": "stream",
     "text": [
      "{'a': 'Apple', 'b': 'Ball'}\n"
     ]
    },
    {
     "data": {
      "text/plain": [
       "'Apple'"
      ]
     },
     "execution_count": 4,
     "metadata": {},
     "output_type": "execute_result"
    }
   ],
   "source": [
    "a = {\"a\":\"Apple\",\"b\":\"Ball\"}\n",
    "print(a)\n",
    "a[\"a\"]"
   ]
  },
  {
   "cell_type": "code",
   "execution_count": 5,
   "metadata": {},
   "outputs": [],
   "source": [
    "# -Mutable datatype\n",
    "# -it may have multiple values\n",
    "# -no duplicate index\n",
    "# -Ordered"
   ]
  },
  {
   "cell_type": "code",
   "execution_count": 6,
   "metadata": {},
   "outputs": [
    {
     "data": {
      "text/plain": [
       "{'a': 'Apple', 'b': 'Apple'}"
      ]
     },
     "execution_count": 6,
     "metadata": {},
     "output_type": "execute_result"
    }
   ],
   "source": [
    "a = {'a': 'Apple', 'b': 'Apple'}\n",
    "a"
   ]
  },
  {
   "cell_type": "code",
   "execution_count": 8,
   "metadata": {},
   "outputs": [
    {
     "data": {
      "text/plain": [
       "{'a': 'Ant', 'b': 'Apple'}"
      ]
     },
     "execution_count": 8,
     "metadata": {},
     "output_type": "execute_result"
    }
   ],
   "source": [
    "a[\"a\"]=\"Ant\"\n",
    "a"
   ]
  },
  {
   "cell_type": "code",
   "execution_count": 12,
   "metadata": {},
   "outputs": [
    {
     "data": {
      "text/plain": [
       "{'a': 'Apple', 'b': 'Ball', 'c': 'Cat'}"
      ]
     },
     "execution_count": 12,
     "metadata": {},
     "output_type": "execute_result"
    }
   ],
   "source": [
    "a = {}\n",
    "a[\"a\"] = \"Apple\"\n",
    "a[\"b\"] = \"Ball\"\n",
    "a[\"c\"] = \"Cat\"\n",
    "a"
   ]
  },
  {
   "cell_type": "code",
   "execution_count": 13,
   "metadata": {},
   "outputs": [
    {
     "data": {
      "text/plain": [
       "{'a': 'Ant', 'b': 'Ball', 'c': 'Cat'}"
      ]
     },
     "execution_count": 13,
     "metadata": {},
     "output_type": "execute_result"
    }
   ],
   "source": [
    "a[\"a\"] = \"Ant\"\n",
    "a"
   ]
  },
  {
   "cell_type": "code",
   "execution_count": 14,
   "metadata": {},
   "outputs": [
    {
     "name": "stdout",
     "output_type": "stream",
     "text": [
      "a\n",
      "b\n",
      "c\n"
     ]
    }
   ],
   "source": [
    "for i in a:\n",
    "    print(i)"
   ]
  },
  {
   "cell_type": "code",
   "execution_count": 15,
   "metadata": {},
   "outputs": [
    {
     "name": "stdout",
     "output_type": "stream",
     "text": [
      "Ant\n",
      "Ball\n",
      "Cat\n"
     ]
    }
   ],
   "source": [
    "for i in a.values():\n",
    "    print(i)"
   ]
  },
  {
   "cell_type": "code",
   "execution_count": 16,
   "metadata": {},
   "outputs": [
    {
     "name": "stdout",
     "output_type": "stream",
     "text": [
      "('a', 'Ant')\n",
      "('b', 'Ball')\n",
      "('c', 'Cat')\n"
     ]
    }
   ],
   "source": [
    "for i in a.items():\n",
    "    print(i)"
   ]
  },
  {
   "cell_type": "code",
   "execution_count": 17,
   "metadata": {},
   "outputs": [
    {
     "data": {
      "text/plain": [
       "[('a', 'Ant'), ('b', 'Ball'), ('c', 'Cat')]"
      ]
     },
     "execution_count": 17,
     "metadata": {},
     "output_type": "execute_result"
    }
   ],
   "source": [
    "key_value = []\n",
    "for i in a.items():\n",
    "    key_value.append(i)\n",
    "key_value"
   ]
  },
  {
   "cell_type": "code",
   "execution_count": 18,
   "metadata": {},
   "outputs": [
    {
     "data": {
      "text/plain": [
       "[['a', 'Ant'], ['b', 'Ball'], ['c', 'Cat']]"
      ]
     },
     "execution_count": 18,
     "metadata": {},
     "output_type": "execute_result"
    }
   ],
   "source": [
    "new_data = []\n",
    "for i in key_value:\n",
    "    j = list(i)\n",
    "    new_data.append(j)\n",
    "new_data"
   ]
  },
  {
   "cell_type": "code",
   "execution_count": 19,
   "metadata": {},
   "outputs": [
    {
     "data": {
      "text/plain": [
       "[['A', 'Ant'], ['b', 'Ball'], ['c', 'Cat']]"
      ]
     },
     "execution_count": 19,
     "metadata": {},
     "output_type": "execute_result"
    }
   ],
   "source": [
    "new_data[0][0] = \"A\"\n",
    "new_data"
   ]
  },
  {
   "cell_type": "code",
   "execution_count": 20,
   "metadata": {},
   "outputs": [
    {
     "name": "stdout",
     "output_type": "stream",
     "text": [
      "{'A': 'Ant', 'b': 'Ball', 'c': 'Cat'}\n"
     ]
    }
   ],
   "source": [
    "d = {}\n",
    "for k in new_data:\n",
    "    key = k[0]\n",
    "    value = k[1]\n",
    "    d[key] = value\n",
    "print(d)"
   ]
  },
  {
   "cell_type": "code",
   "execution_count": 22,
   "metadata": {},
   "outputs": [
    {
     "name": "stdout",
     "output_type": "stream",
     "text": [
      "Enter no of people = 2\n",
      "Enter name = Ram\n",
      "Enter phone = 9878776765\n",
      "Enter name = Shyam\n",
      "Enter phone = 9856554543\n",
      "The info is = \n",
      " {'Ram': 9878776765, 'Shyam': 9856554543}\n"
     ]
    }
   ],
   "source": [
    "d = {}\n",
    "n = int(input(\"Enter no of people = \"))\n",
    "for i in range(n):\n",
    "    name = input(\"Enter name = \")\n",
    "    phone = int(input(\"Enter phone = \"))\n",
    "    d[name] = phone\n",
    "print(\"The info is = \\n\",d)"
   ]
  },
  {
   "cell_type": "code",
   "execution_count": 24,
   "metadata": {},
   "outputs": [
    {
     "data": {
      "text/plain": [
       "9856554543"
      ]
     },
     "execution_count": 24,
     "metadata": {},
     "output_type": "execute_result"
    }
   ],
   "source": [
    "d[\"Shyam\"]"
   ]
  },
  {
   "cell_type": "code",
   "execution_count": 25,
   "metadata": {},
   "outputs": [],
   "source": [
    "a = {\"a\":\"Apple\"}\n",
    "b = {\"b\":\"Ball\"}\n",
    "a.update(b)"
   ]
  },
  {
   "cell_type": "code",
   "execution_count": 26,
   "metadata": {},
   "outputs": [
    {
     "data": {
      "text/plain": [
       "{'a': 'Apple', 'b': 'Ball'}"
      ]
     },
     "execution_count": 26,
     "metadata": {},
     "output_type": "execute_result"
    }
   ],
   "source": [
    "a"
   ]
  },
  {
   "cell_type": "code",
   "execution_count": 31,
   "metadata": {},
   "outputs": [
    {
     "data": {
      "text/plain": [
       "{'b': 'Ball'}"
      ]
     },
     "execution_count": 31,
     "metadata": {},
     "output_type": "execute_result"
    }
   ],
   "source": [
    "d = {'a': 'Apple', 'b': 'Ball'}\n",
    "del d[\"a\"]\n",
    "b"
   ]
  },
  {
   "cell_type": "code",
   "execution_count": 34,
   "metadata": {},
   "outputs": [
    {
     "name": "stdout",
     "output_type": "stream",
     "text": [
      "{'b': 'Ball'}\n"
     ]
    }
   ],
   "source": [
    "d = {'a': 'Apple', 'b': 'Ball'}\n",
    "d.pop(\"a\")\n",
    "print(d)"
   ]
  },
  {
   "cell_type": "code",
   "execution_count": 35,
   "metadata": {},
   "outputs": [
    {
     "data": {
      "text/plain": [
       "{}"
      ]
     },
     "execution_count": 35,
     "metadata": {},
     "output_type": "execute_result"
    }
   ],
   "source": [
    "d = {'a': 'Apple', 'b': 'Ball'}\n",
    "d.clear()\n",
    "d"
   ]
  },
  {
   "cell_type": "code",
   "execution_count": 36,
   "metadata": {},
   "outputs": [],
   "source": [
    "# list inside dict"
   ]
  },
  {
   "cell_type": "code",
   "execution_count": 39,
   "metadata": {},
   "outputs": [
    {
     "name": "stdout",
     "output_type": "stream",
     "text": [
      "{'a': ['Apple', 'Ant'], 'b': ['Ball', 'Bat']}\n",
      "['Apple', 'Ant']\n",
      "Apple\n"
     ]
    }
   ],
   "source": [
    "a = {\"a\":[\"Apple\",\"Ant\"],\"b\":[\"Ball\",\"Bat\"]}\n",
    "print(a)\n",
    "print(a[\"a\"])\n",
    "print(a[\"a\"][0])"
   ]
  },
  {
   "cell_type": "code",
   "execution_count": 40,
   "metadata": {},
   "outputs": [
    {
     "name": "stdout",
     "output_type": "stream",
     "text": [
      "Enter no of people = 2\n",
      "Enter name = Ram\n",
      "Enter ntc phone = 535345345\n",
      "Enter ncell phone = 35353543535\n",
      "Enter name = Shyam\n",
      "Enter ntc phone = 35435345\n",
      "Enter ncell phone = 56465654\n",
      "The info is = \n",
      " {'Ram': [535345345, 35353543535], 'Shyam': [35435345, 56465654]}\n"
     ]
    }
   ],
   "source": [
    "d = {}\n",
    "n = int(input(\"Enter no of people = \"))\n",
    "for i in range(n):\n",
    "    name = input(\"Enter name = \")\n",
    "    ntc_phone = int(input(\"Enter ntc phone = \"))\n",
    "    ncell_phone = int(input(\"Enter ncell phone = \"))\n",
    "    d[name] = [ntc_phone,ncell_phone]\n",
    "print(\"The info is = \\n\",d)"
   ]
  },
  {
   "cell_type": "code",
   "execution_count": 41,
   "metadata": {},
   "outputs": [
    {
     "data": {
      "text/plain": [
       "[535345345, 35353543535]"
      ]
     },
     "execution_count": 41,
     "metadata": {},
     "output_type": "execute_result"
    }
   ],
   "source": [
    "d[\"Ram\"]"
   ]
  },
  {
   "cell_type": "code",
   "execution_count": 42,
   "metadata": {},
   "outputs": [
    {
     "data": {
      "text/plain": [
       "{'Ram': [535345345, 35353543535, '9856554543'], 'Shyam': [35435345, 56465654]}"
      ]
     },
     "execution_count": 42,
     "metadata": {},
     "output_type": "execute_result"
    }
   ],
   "source": [
    "d =  {'Ram': [535345345, 35353543535], \n",
    "      'Shyam': [35435345, 56465654]}\n",
    "d[\"Ram\"].append(\"9856554543\")\n",
    "d"
   ]
  },
  {
   "cell_type": "code",
   "execution_count": 43,
   "metadata": {},
   "outputs": [
    {
     "data": {
      "text/plain": [
       "{'Ram': [535345345, 35353543535, 9823223221], 'Shyam': [35435345, 56465654]}"
      ]
     },
     "execution_count": 43,
     "metadata": {},
     "output_type": "execute_result"
    }
   ],
   "source": [
    "d[\"Ram\"][2] =9823223221\n",
    "d"
   ]
  },
  {
   "cell_type": "code",
   "execution_count": 44,
   "metadata": {},
   "outputs": [
    {
     "data": {
      "text/plain": [
       "{'Ram': [535345345, 35353543535], 'Shyam': [35435345, 56465654]}"
      ]
     },
     "execution_count": 44,
     "metadata": {},
     "output_type": "execute_result"
    }
   ],
   "source": [
    "del d[\"Ram\"][2]\n",
    "d"
   ]
  },
  {
   "cell_type": "code",
   "execution_count": 45,
   "metadata": {},
   "outputs": [
    {
     "name": "stdout",
     "output_type": "stream",
     "text": [
      "Enter no of people = 2\n",
      "Enter name = Apple\n",
      "Enter price = 100\n",
      "Enter quantity = 2\n",
      "Enter name = Ball\n",
      "Enter price = 67\n",
      "Enter quantity = 2\n",
      "The info is = \n",
      " {'Apple': [100, 2, 200], 'Ball': [67, 2, 134]}\n"
     ]
    }
   ],
   "source": [
    " d = {}\n",
    "n = int(input(\"Enter no of people = \"))\n",
    "for i in range(n):\n",
    "    name = input(\"Enter name = \")\n",
    "    price = int(input(\"Enter price = \"))\n",
    "    quantity = int(input(\"Enter quantity = \"))\n",
    "    total = price*quantity\n",
    "    d[name] = [price,quantity,total]\n",
    "print(\"The info is = \\n\",d)"
   ]
  },
  {
   "cell_type": "code",
   "execution_count": 49,
   "metadata": {},
   "outputs": [],
   "source": [
    "a = [{\"Name\":\"Ram\",\"Phone\":9867665654},\n",
    "     {\"Name\":\"Shyam\",\"Phone\":98678678},\n",
    "     {\"Name\":\"hari\",\"Phone\":9867665654}]\n"
   ]
  },
  {
   "cell_type": "code",
   "execution_count": 50,
   "metadata": {},
   "outputs": [
    {
     "name": "stdout",
     "output_type": "stream",
     "text": [
      "{'Name': 'Ram', 'Phone': 9867665654}\n",
      "{'Name': 'Shyam', 'Phone': 98678678}\n",
      "{'Name': 'hari', 'Phone': 9867665654}\n"
     ]
    }
   ],
   "source": [
    "for i in a:\n",
    "    print(i)"
   ]
  },
  {
   "cell_type": "code",
   "execution_count": 52,
   "metadata": {},
   "outputs": [
    {
     "name": "stdout",
     "output_type": "stream",
     "text": [
      "Enter no of people = 2\n",
      "Enter name = Apple\n",
      "Enter price = 199\n",
      "Enter quantity = 2\n",
      "Enter name = Banana\n",
      "Enter price = 678\n",
      "Enter quantity = 3\n",
      "The info is = \n",
      " [{'Name': 'Apple', 'Price': 199, 'Quantity': 2, 'Total': 398}, {'Name': 'Banana', 'Price': 678, 'Quantity': 3, 'Total': 2034}]\n"
     ]
    }
   ],
   "source": [
    "d = []\n",
    "s = 0\n",
    "n = int(input(\"Enter no of people = \"))\n",
    "for i in range(n):\n",
    "    name = input(\"Enter name = \")\n",
    "    price = int(input(\"Enter price = \"))\n",
    "    quantity = int(input(\"Enter quantity = \"))\n",
    "    total = price*quantity\n",
    "    s = s+total\n",
    "    data = {\"Name\":name,\"Price\":price,\n",
    "            \"Quantity\":quantity,\"Total\":total}\n",
    "    d.append(data)\n",
    "print(\"The info is = \\n\",d)\n",
    "print(\"The total is = \",s)"
   ]
  },
  {
   "cell_type": "code",
   "execution_count": 54,
   "metadata": {},
   "outputs": [
    {
     "data": {
      "text/plain": [
       "400"
      ]
     },
     "execution_count": 54,
     "metadata": {},
     "output_type": "execute_result"
    }
   ],
   "source": [
    "d[0][\"Price\"] = 200\n",
    "q = d[0][\"Quantity\"]\n",
    "total = d[0][\"Price\"]*q\n",
    "total"
   ]
  },
  {
   "cell_type": "code",
   "execution_count": 55,
   "metadata": {},
   "outputs": [
    {
     "data": {
      "text/plain": [
       "[{'Name': 'Apple', 'Price': 200, 'Quantity': 2, 'Total': 400},\n",
       " {'Name': 'Banana', 'Price': 678, 'Quantity': 3, 'Total': 2034}]"
      ]
     },
     "execution_count": 55,
     "metadata": {},
     "output_type": "execute_result"
    }
   ],
   "source": [
    "d[0][\"Total\"] = total\n",
    "d"
   ]
  },
  {
   "cell_type": "code",
   "execution_count": 5,
   "metadata": {},
   "outputs": [
    {
     "name": "stdout",
     "output_type": "stream",
     "text": [
      "[{'Name': 'Apple', 'Price': 199, 'Quantity': 3, 'Total': 597}, {'Name': 'Banana', 'Price': 678, 'Quantity': 3, 'Total': 2034}]\n",
      "597\n"
     ]
    }
   ],
   "source": [
    "d = [{'Name': 'Apple', 'Price': 199, 'Quantity': 2, 'Total': 398}, \n",
    "     {'Name': 'Banana', 'Price': 678, 'Quantity': 3, 'Total': 2034}]\n",
    "\n",
    "d[0][\"Quantity\"] = 3\n",
    "q = d[0][\"Price\"]\n",
    "total = d[0][\"Quantity\"]*q\n",
    "d[0][\"Total\"] = total\n",
    "print(d)\n",
    "print(total)"
   ]
  },
  {
   "cell_type": "code",
   "execution_count": 8,
   "metadata": {},
   "outputs": [
    {
     "name": "stdout",
     "output_type": "stream",
     "text": [
      "Enter new quantity = 2\n",
      "Enter new price = 300\n",
      "Entre index = 1\n",
      "[{'Name': 'Apple', 'Price': 199, 'Quantity': 2, 'Total': 398}, {'Name': 'Banana', 'Price': 300, 'Quantity': 2, 'Total': 600}]\n",
      "600\n"
     ]
    },
    {
     "ename": "TypeError",
     "evalue": "list indices must be integers or slices, not str",
     "output_type": "error",
     "traceback": [
      "\u001b[1;31m---------------------------------------------------------------------------\u001b[0m",
      "\u001b[1;31mTypeError\u001b[0m                                 Traceback (most recent call last)",
      "\u001b[1;32m<ipython-input-8-a6d4a0471985>\u001b[0m in \u001b[0;36m<module>\u001b[1;34m\u001b[0m\n\u001b[0;32m     11\u001b[0m \u001b[0mprint\u001b[0m\u001b[1;33m(\u001b[0m\u001b[0md\u001b[0m\u001b[1;33m)\u001b[0m\u001b[1;33m\u001b[0m\u001b[1;33m\u001b[0m\u001b[0m\n\u001b[0;32m     12\u001b[0m \u001b[0mprint\u001b[0m\u001b[1;33m(\u001b[0m\u001b[0mtotal\u001b[0m\u001b[1;33m)\u001b[0m\u001b[1;33m\u001b[0m\u001b[1;33m\u001b[0m\u001b[0m\n\u001b[1;32m---> 13\u001b[1;33m \u001b[1;32mfor\u001b[0m \u001b[0mi\u001b[0m \u001b[1;32min\u001b[0m \u001b[0md\u001b[0m\u001b[1;33m[\u001b[0m\u001b[1;34m'Total'\u001b[0m\u001b[1;33m]\u001b[0m\u001b[1;33m:\u001b[0m\u001b[1;33m\u001b[0m\u001b[1;33m\u001b[0m\u001b[0m\n\u001b[0m\u001b[0;32m     14\u001b[0m     \u001b[0mprint\u001b[0m\u001b[1;33m(\u001b[0m\u001b[0mi\u001b[0m\u001b[1;33m)\u001b[0m\u001b[1;33m\u001b[0m\u001b[1;33m\u001b[0m\u001b[0m\n",
      "\u001b[1;31mTypeError\u001b[0m: list indices must be integers or slices, not str"
     ]
    }
   ],
   "source": [
    "d = [{'Name': 'Apple', 'Price': 199, 'Quantity': 2, 'Total': 398}, \n",
    "     {'Name': 'Banana', 'Price': 678, 'Quantity': 3, 'Total': 2034}]\n",
    "\n",
    "q = int(input(\"Enter new quantity = \"))\n",
    "p = int(input(\"Enter new price = \"))\n",
    "i = int(input(\"Entre index = \"))\n",
    "d[i][\"Quantity\"] = q\n",
    "d[i][\"Price\"] = p\n",
    "total = p*q\n",
    "d[i][\"Total\"] = total\n",
    "print(d)\n",
    "print(total)\n"
   ]
  },
  {
   "cell_type": "code",
   "execution_count": 13,
   "metadata": {},
   "outputs": [
    {
     "name": "stdout",
     "output_type": "stream",
     "text": [
      "The all total =  998\n"
     ]
    }
   ],
   "source": [
    "s = 0\n",
    "for i in d:\n",
    "    x = i['Total']\n",
    "    s = s+x\n",
    "print(\"The all total = \",s)"
   ]
  },
  {
   "cell_type": "code",
   "execution_count": null,
   "metadata": {},
   "outputs": [],
   "source": [
    "# WAP for result management system (Update the marks is required)\n",
    "# subject = input(\"Entre Subject = \")\n",
    "# value = int(input(\"Enter new marks = \"))\n",
    "# d[i][subject] = value"
   ]
  },
  {
   "cell_type": "code",
   "execution_count": 14,
   "metadata": {},
   "outputs": [
    {
     "name": "stdout",
     "output_type": "stream",
     "text": [
      "{'Physics': 90, 'Chemistry': 78, 'Math': 78, 'English': 67}\n",
      "{'Physics': 92, 'Chemistry': 79, 'Math': 74, 'English': 45}\n"
     ]
    }
   ],
   "source": [
    "# Dictionary inside dictionary\n",
    "a = {\"Ram\":{\"Physics\":90,\"Chemistry\":78,\"Math\":78,\"English\":67},\n",
    "    \"Shyam\":{\"Physics\":92,\"Chemistry\":79,\"Math\":74,\"English\":45}}\n",
    "print(a[\"Ram\"])\n",
    "print(a[\"Shyam\"])"
   ]
  },
  {
   "cell_type": "code",
   "execution_count": 15,
   "metadata": {},
   "outputs": [
    {
     "name": "stdout",
     "output_type": "stream",
     "text": [
      "90\n"
     ]
    }
   ],
   "source": [
    "print(a[\"Ram\"][\"Physics\"])"
   ]
  },
  {
   "cell_type": "code",
   "execution_count": 17,
   "metadata": {},
   "outputs": [
    {
     "name": "stdout",
     "output_type": "stream",
     "text": [
      "{'A': 'Apple'}\n",
      "{'A': ['Apple', 'Ant']}\n",
      "{('A', 'a'): 'Apple'}\n"
     ]
    }
   ],
   "source": [
    "a = {\"A\":\"Apple\"}\n",
    "b = {\"A\":[\"Apple\",\"Ant\"]}\n",
    "c = {(\"A\",\"a\"):\"Apple\"}  #tuple is imutable datatype\n",
    "d  = {\"A\":(\"Apple\",\"Ant\")}\n",
    "print(a)\n",
    "print(b)\n",
    "print(c)"
   ]
  },
  {
   "cell_type": "code",
   "execution_count": 18,
   "metadata": {},
   "outputs": [
    {
     "name": "stdout",
     "output_type": "stream",
     "text": [
      "{'Physics': 90, 'Chemistry': 78, 'Math': 78, 'English': 67}\n",
      "{'Physics': 92, 'Chemistry': 79, 'Math': 74, 'English': 45}\n"
     ]
    },
    {
     "data": {
      "text/plain": [
       "{'Ram': {'Physics': 90,\n",
       "  'Chemistry': 78,\n",
       "  'Math': 78,\n",
       "  'English': 67,\n",
       "  'Computer': 99},\n",
       " 'Shyam': {'Physics': 92, 'Chemistry': 79, 'Math': 74, 'English': 45}}"
      ]
     },
     "execution_count": 18,
     "metadata": {},
     "output_type": "execute_result"
    }
   ],
   "source": [
    "# Dictionary inside dictionary\n",
    "a = {\"Ram\":{\"Physics\":90,\"Chemistry\":78,\"Math\":78,\"English\":67},\n",
    "    \"Shyam\":{\"Physics\":92,\"Chemistry\":79,\"Math\":74,\"English\":45}}\n",
    "print(a[\"Ram\"])\n",
    "print(a[\"Shyam\"])\n",
    "a[\"Ram\"][\"Computer\"] = 99\n",
    "a"
   ]
  },
  {
   "cell_type": "code",
   "execution_count": 21,
   "metadata": {},
   "outputs": [
    {
     "name": "stdout",
     "output_type": "stream",
     "text": [
      "Enter no of people = 2\n",
      "Enter name = Ram\n",
      "Enter price = 78\n",
      "Enter quantity = 2\n",
      "Enter name = Ball\n",
      "Enter price = 78\n",
      "Enter quantity = 6\n",
      "The info is = \n",
      " {'Ram': {'Price': 78, 'Quantity': 2, 'Total': 156}, 'Ball': {'Price': 78, 'Quantity': 6, 'Total': 468}}\n",
      "The total is =  624\n"
     ]
    }
   ],
   "source": [
    "d = {}\n",
    "s = 0\n",
    "n = int(input(\"Enter no of people = \"))\n",
    "for i in range(n):\n",
    "    name = input(\"Enter name = \")\n",
    "    price = int(input(\"Enter price = \"))\n",
    "    quantity = int(input(\"Enter quantity = \"))\n",
    "    total = price*quantity\n",
    "    s = s+total\n",
    "    d[name] = {\"Price\":price,\n",
    "            \"Quantity\":quantity,\"Total\":total}\n",
    "    \n",
    "print(\"The info is = \\n\",d)\n",
    "print(\"The total is = \",s)"
   ]
  },
  {
   "cell_type": "code",
   "execution_count": null,
   "metadata": {},
   "outputs": [],
   "source": []
  }
 ],
 "metadata": {
  "kernelspec": {
   "display_name": "Python 3",
   "language": "python",
   "name": "python3"
  },
  "language_info": {
   "codemirror_mode": {
    "name": "ipython",
    "version": 3
   },
   "file_extension": ".py",
   "mimetype": "text/x-python",
   "name": "python",
   "nbconvert_exporter": "python",
   "pygments_lexer": "ipython3",
   "version": "3.7.1"
  }
 },
 "nbformat": 4,
 "nbformat_minor": 2
}
