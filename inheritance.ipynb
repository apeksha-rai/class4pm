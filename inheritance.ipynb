{
 "cells": [
  {
   "cell_type": "code",
   "execution_count": 5,
   "metadata": {},
   "outputs": [
    {
     "name": "stdout",
     "output_type": "stream",
     "text": [
      "Hello I am Ram.I am from Kathmandu\n",
      "Shyam Patan\n"
     ]
    }
   ],
   "source": [
    "class Info:\n",
    "    def __init__(self,name,add):\n",
    "        self.name = name\n",
    "        self.add = add\n",
    "\n",
    "class Hr(Info):\n",
    "    def hr(self):\n",
    "        print(f\"Hello I am {self.name}.I am from {self.add}\")\n",
    "\n",
    "obj = Hr(\"Ram\",\"Kathmandu\")\n",
    "obj.hr()\n",
    "obj1 = Hr(\"Shyam\",\"Patan\")\n",
    "print(obj1.name,obj1.add)"
   ]
  },
  {
   "cell_type": "code",
   "execution_count": 6,
   "metadata": {},
   "outputs": [
    {
     "name": "stdout",
     "output_type": "stream",
     "text": [
      "This is class A\n",
      "This is class B\n",
      "This is class C\n"
     ]
    }
   ],
   "source": [
    "class A:\n",
    "    print(\"This is class A\")\n",
    "class B(A):\n",
    "    print(\"This is class B\")\n",
    "class C(B):\n",
    "    print(\"This is class C\")\n",
    "    \n",
    "obj = C()"
   ]
  },
  {
   "cell_type": "code",
   "execution_count": 11,
   "metadata": {},
   "outputs": [
    {
     "name": "stdout",
     "output_type": "stream",
     "text": [
      "This is class A\n",
      "This is class B\n",
      "This is class A\n",
      "This is class C\n",
      "This is class B\n",
      "This is class A\n"
     ]
    }
   ],
   "source": [
    "class A:\n",
    "    def a(self):\n",
    "        print(\"This is class A\")\n",
    "class B(A):\n",
    "    def b(self):\n",
    "        print(\"This is class B\")\n",
    "        super().a()\n",
    "class C(B):\n",
    "    def c(self):\n",
    "        print(\"This is class C\")\n",
    "        super().b()\n",
    "    \n",
    "obj = C()\n",
    "obj.a()\n",
    "obj.b()\n",
    "obj.c()"
   ]
  },
  {
   "cell_type": "code",
   "execution_count": 13,
   "metadata": {},
   "outputs": [
    {
     "name": "stdout",
     "output_type": "stream",
     "text": [
      "Hello I am Ram.I am from Kathmandu\n"
     ]
    }
   ],
   "source": [
    "class Info:\n",
    "    def __init__(self,name,add):\n",
    "        self.name = name\n",
    "        self.add = add\n",
    "    def info(self):\n",
    "            print(f\"Hello I am {self.name}.I am from {self.add}\")\n",
    "class Hr(Info):\n",
    "    def hr(self):\n",
    "        super().info()\n",
    "\n",
    "obj = Hr(\"Ram\",\"Kathmandu\")\n",
    "obj.hr()\n"
   ]
  },
  {
   "cell_type": "code",
   "execution_count": 16,
   "metadata": {},
   "outputs": [
    {
     "name": "stdout",
     "output_type": "stream",
     "text": [
      "Hello I am Ram.I am from Kathmandu\n"
     ]
    }
   ],
   "source": [
    "class Info:\n",
    "    def __init__(self,add):\n",
    "        self.add = add\n",
    "        \n",
    "class Office(Info):\n",
    "    def __init__(self,name):\n",
    "        self.name = name\n",
    "        \n",
    "class Hr(Office):\n",
    "    def __init__(self,name,add):\n",
    "        Info. __init__(self,add)\n",
    "        Office.__init__(self,name)\n",
    "        \n",
    "    def hr(self):\n",
    "        print(f\"Hello I am {self.name}.I am from {self.add}\")\n",
    "\n",
    "obj = Hr(\"Ram\",\"Kathmandu\")\n",
    "obj.hr()"
   ]
  },
  {
   "cell_type": "code",
   "execution_count": 17,
   "metadata": {},
   "outputs": [
    {
     "name": "stdout",
     "output_type": "stream",
     "text": [
      "Hello I am Ram.I am from Kathmandu\n"
     ]
    }
   ],
   "source": [
    "class Info:\n",
    "    def __init__(self,add):\n",
    "        self.add = add\n",
    "        \n",
    "class Office:\n",
    "    def __init__(self,name):\n",
    "        self.name = name\n",
    "        \n",
    "class Hr(Office,Info):\n",
    "    def __init__(self,name,add):\n",
    "        Info. __init__(self,add)\n",
    "        Office.__init__(self,name)\n",
    "        \n",
    "    def hr(self):\n",
    "        print(f\"Hello I am {self.name}.I am from {self.add}\")\n",
    "\n",
    "obj = Hr(\"Ram\",\"Kathmandu\")\n",
    "obj.hr()"
   ]
  },
  {
   "cell_type": "code",
   "execution_count": null,
   "metadata": {},
   "outputs": [],
   "source": [
    "class Info:\n",
    "    def __init__(self,add):\n",
    "        self.add = add\n",
    "        \n",
    "class Office:\n",
    "    def __init__(self,name):\n",
    "        self.name = name\n",
    "        \n",
    "class Hr(Office,Info):\n",
    "    def __init__(self,name,add,phone):\n",
    "        Info. __init__(self,add)\n",
    "        Office.__init__(self,name)\n",
    "        self.phone = phone\n",
    "        \n",
    "    def hr(self):\n",
    "        print(f\"Hello I am {self.name}.I am from {self.add}\")\n",
    "\n",
    "obj = Hr(\"Ram\",\"Kathmandu\",9843556543)\n",
    "obj.hr()"
   ]
  },
  {
   "cell_type": "code",
   "execution_count": 19,
   "metadata": {},
   "outputs": [
    {
     "name": "stdout",
     "output_type": "stream",
     "text": [
      "Hello I am Ram. I am from Kathmandu\n"
     ]
    }
   ],
   "source": [
    "class Info:\n",
    "    def __init__(self,add):\n",
    "        self.add = add\n",
    "    def address(self):\n",
    "        return f\"I am from {self.add}\"\n",
    "class Office:\n",
    "    def __init__(self,name):\n",
    "        self.name = name\n",
    "    def name(self):\n",
    "        return f\"Hello I am {self.name}.\"\n",
    "class Hr(Office,Info):\n",
    "    def __init__(self,name,add,phone):\n",
    "        Info. __init__(self,add)\n",
    "        Office.__init__(self,name)\n",
    "        self.phone = phone\n",
    "        \n",
    "    def hr(self):\n",
    "        print(f\"{super().name()} {super().address()}.My no is {self.phone}\")\n",
    "\n",
    "obj = Hr(\"Ram\",\"Kathmandu\",9843556543)\n",
    "obj.hr()"
   ]
  },
  {
   "cell_type": "code",
   "execution_count": 20,
   "metadata": {},
   "outputs": [
    {
     "name": "stdout",
     "output_type": "stream",
     "text": [
      "Ram\n",
      "2\n"
     ]
    }
   ],
   "source": [
    "class Person:  \n",
    "    #defining constructor  \n",
    "    def __init__(self, personName, personAge):  \n",
    "        self.name = personName  \n",
    "        self.age = personAge  \n",
    "        #defining class methods  \n",
    "    def showName(self):  \n",
    "        print(self.name)  \n",
    "    def showAge(self):  \n",
    "        print(self.age)  \n",
    "class Student: # Person is the  \n",
    "    def __init__(self, studentId):  \n",
    "        self.studentId = studentId  \n",
    "    def getId(self):  \n",
    "        return self.studentId  \n",
    "class Resident(Person, Student): # extends both Person and Student class  \u000b",
    "\n",
    "    def __init__(self, name, age, id):  \n",
    "        Person.__init__(self, name, age)  \n",
    "        Student.__init__(self, id)  \n",
    "        # Create an object of the subclass  \n",
    "resident1 = Resident('Ram', 25, '2')  \n",
    "resident1.showName()  \n",
    "print(resident1.getId()) "
   ]
  },
  {
   "cell_type": "code",
   "execution_count": null,
   "metadata": {},
   "outputs": [],
   "source": []
  }
 ],
 "metadata": {
  "kernelspec": {
   "display_name": "Python 3",
   "language": "python",
   "name": "python3"
  },
  "language_info": {
   "codemirror_mode": {
    "name": "ipython",
    "version": 3
   },
   "file_extension": ".py",
   "mimetype": "text/x-python",
   "name": "python",
   "nbconvert_exporter": "python",
   "pygments_lexer": "ipython3",
   "version": "3.7.1"
  }
 },
 "nbformat": 4,
 "nbformat_minor": 2
}
