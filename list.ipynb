{
 "cells": [
  {
   "cell_type": "code",
   "execution_count": 1,
   "metadata": {},
   "outputs": [],
   "source": [
    "# List\n",
    "# -Mutable\n",
    "# -Ordered\n",
    "# -It follows indexing\n",
    "# -Allow duplicate members"
   ]
  },
  {
   "cell_type": "code",
   "execution_count": 2,
   "metadata": {},
   "outputs": [
    {
     "name": "stdout",
     "output_type": "stream",
     "text": [
      "['Apple', 'Ball']\n",
      "<class 'list'>\n"
     ]
    }
   ],
   "source": [
    "a = [\"Apple\",\"Ball\"]\n",
    "b = [1,2,3,4]\n",
    "print(a)\n",
    "print(type(b))"
   ]
  },
  {
   "cell_type": "code",
   "execution_count": 5,
   "metadata": {},
   "outputs": [
    {
     "name": "stdout",
     "output_type": "stream",
     "text": [
      "Ball\n"
     ]
    }
   ],
   "source": [
    "print(a[-1])"
   ]
  },
  {
   "cell_type": "code",
   "execution_count": 8,
   "metadata": {},
   "outputs": [
    {
     "name": "stdout",
     "output_type": "stream",
     "text": [
      "['Apple', 'Ball', 'Cat']\n"
     ]
    }
   ],
   "source": [
    "a = [\"Apple\",\"Ball\",\"Cat\",\"Fish\",\"Dog\"]\n",
    "print(a[0:3])"
   ]
  },
  {
   "cell_type": "code",
   "execution_count": 9,
   "metadata": {},
   "outputs": [
    {
     "name": "stdout",
     "output_type": "stream",
     "text": [
      "['Apple', 'Cat', 'Dog']\n"
     ]
    }
   ],
   "source": [
    "a = [\"Apple\",\"Ball\",\"Cat\",\"Fish\",\"Dog\"]\n",
    "print(a[0:5:2])"
   ]
  },
  {
   "cell_type": "code",
   "execution_count": 11,
   "metadata": {},
   "outputs": [
    {
     "name": "stdout",
     "output_type": "stream",
     "text": [
      "['Ball', 'Apple']\n"
     ]
    }
   ],
   "source": [
    "a = [\"Apple\"]\n",
    "b = [\"Ball\"]\n",
    "print(b+a)"
   ]
  },
  {
   "cell_type": "code",
   "execution_count": 12,
   "metadata": {},
   "outputs": [
    {
     "name": "stdout",
     "output_type": "stream",
     "text": [
      "['Apple', 'Cat', 'Dog', 'Apple', 'Cat', 'Dog']\n"
     ]
    }
   ],
   "source": [
    "a = ['Apple', 'Cat', 'Dog']\n",
    "print(a*2)"
   ]
  },
  {
   "cell_type": "code",
   "execution_count": 14,
   "metadata": {},
   "outputs": [
    {
     "name": "stdout",
     "output_type": "stream",
     "text": [
      "0 Hello World\n",
      "1 Hello World\n",
      "2 Hello World\n",
      "3 Hello World\n",
      "4 Hello World\n"
     ]
    }
   ],
   "source": [
    "# for(i =0;i<5;i++){}\n",
    "for i in range(5):\n",
    "    print(i,\"Hello World\")"
   ]
  },
  {
   "cell_type": "code",
   "execution_count": 15,
   "metadata": {},
   "outputs": [
    {
     "name": "stdout",
     "output_type": "stream",
     "text": [
      "['Apple']\n"
     ]
    }
   ],
   "source": [
    "a = \"Apple\"\n",
    "b = [a]\n",
    "print(b)"
   ]
  },
  {
   "cell_type": "code",
   "execution_count": 17,
   "metadata": {},
   "outputs": [
    {
     "name": "stdout",
     "output_type": "stream",
     "text": [
      "['Ram']\n"
     ]
    }
   ],
   "source": [
    "a = []\n",
    "b = \"Ram\"\n",
    "print(a+[b])"
   ]
  },
  {
   "cell_type": "code",
   "execution_count": 18,
   "metadata": {},
   "outputs": [
    {
     "name": "stdout",
     "output_type": "stream",
     "text": [
      "Enter n = 2\n",
      "Enter name = Ram\n",
      "Enter name = Shyam\n",
      "['Ram', 'Shyam']\n"
     ]
    }
   ],
   "source": [
    "a = []\n",
    "n = int(input(\"Enter n = \"))\n",
    "for i in range(n):\n",
    "    name = input(\"Enter name = \")\n",
    "    a = a+[name]\n",
    "print(a)"
   ]
  },
  {
   "cell_type": "code",
   "execution_count": 1,
   "metadata": {},
   "outputs": [
    {
     "name": "stdout",
     "output_type": "stream",
     "text": [
      "Enter n = 5\n",
      "Enter x = 132\n",
      "Enter x = 234\n",
      "Enter x = 132\n",
      "Enter x = 324\n",
      "Enter x = 123\n",
      "The list is =  [132, 234, 132, 324, 123]\n",
      "The max value is =  324\n",
      "The min value is =  123\n",
      "The sum is =  945\n",
      "The average =  189.0\n"
     ]
    }
   ],
   "source": [
    "a = []\n",
    "n = int(input(\"Enter n = \"))\n",
    "for i in range(n):\n",
    "    x = int(input(\"Enter x = \"))\n",
    "    a = a+[x]\n",
    "    \n",
    "print(\"The list is = \",a)\n",
    "print(\"The max value is = \",max(a))\n",
    "print(\"The min value is = \",min(a))\n",
    "print(\"The sum is = \",sum(a))\n",
    "print(\"The average = \",sum(a)/n)"
   ]
  },
  {
   "cell_type": "code",
   "execution_count": 3,
   "metadata": {},
   "outputs": [
    {
     "data": {
      "text/plain": [
       "[132, 234, 132, 324, 123]"
      ]
     },
     "execution_count": 3,
     "metadata": {},
     "output_type": "execute_result"
    }
   ],
   "source": [
    "a"
   ]
  },
  {
   "cell_type": "code",
   "execution_count": 4,
   "metadata": {},
   "outputs": [],
   "source": [
    "a.sort()"
   ]
  },
  {
   "cell_type": "code",
   "execution_count": 5,
   "metadata": {},
   "outputs": [
    {
     "data": {
      "text/plain": [
       "[123, 132, 132, 234, 324]"
      ]
     },
     "execution_count": 5,
     "metadata": {},
     "output_type": "execute_result"
    }
   ],
   "source": [
    "a"
   ]
  },
  {
   "cell_type": "code",
   "execution_count": 6,
   "metadata": {},
   "outputs": [],
   "source": [
    "a = [\"Zebra\",\"xray\",\"1ball\",\"@fish\"]\n",
    "a.sort()"
   ]
  },
  {
   "cell_type": "code",
   "execution_count": 7,
   "metadata": {},
   "outputs": [
    {
     "data": {
      "text/plain": [
       "['1ball', '@fish', 'Zebra', 'xray']"
      ]
     },
     "execution_count": 7,
     "metadata": {},
     "output_type": "execute_result"
    }
   ],
   "source": [
    "a"
   ]
  },
  {
   "cell_type": "code",
   "execution_count": 8,
   "metadata": {},
   "outputs": [
    {
     "name": "stdout",
     "output_type": "stream",
     "text": [
      "['Zebra', 'ball', 'fish', 'xray']\n"
     ]
    }
   ],
   "source": [
    "a = [\"Zebra\",\"xray\",\"ball\",\"fish\"]\n",
    "a.sort()\n",
    "print(a)"
   ]
  },
  {
   "cell_type": "code",
   "execution_count": 10,
   "metadata": {},
   "outputs": [
    {
     "name": "stdout",
     "output_type": "stream",
     "text": [
      "[324, 234, 132, 132, 123]\n"
     ]
    }
   ],
   "source": [
    "a = [132, 234, 132, 324, 123]\n",
    "a.sort()\n",
    "a.reverse()\n",
    "print(a)"
   ]
  },
  {
   "cell_type": "code",
   "execution_count": 11,
   "metadata": {},
   "outputs": [
    {
     "name": "stdout",
     "output_type": "stream",
     "text": [
      "Zebra\n",
      "xray\n",
      "ball\n",
      "fish\n"
     ]
    }
   ],
   "source": [
    "a = [\"Zebra\",\"xray\",\"ball\",\"fish\"]\n",
    "for i in a:\n",
    "    print(i)"
   ]
  },
  {
   "cell_type": "code",
   "execution_count": 12,
   "metadata": {},
   "outputs": [
    {
     "data": {
      "text/plain": [
       "4"
      ]
     },
     "execution_count": 12,
     "metadata": {},
     "output_type": "execute_result"
    }
   ],
   "source": [
    "len(a)"
   ]
  },
  {
   "cell_type": "code",
   "execution_count": 14,
   "metadata": {},
   "outputs": [
    {
     "name": "stdout",
     "output_type": "stream",
     "text": [
      "Zebra\n",
      "xray\n",
      "ball\n",
      "fish\n"
     ]
    }
   ],
   "source": [
    "a = [\"Zebra\",\"xray\",\"ball\",\"fish\"]\n",
    "n = len(a)\n",
    "for i in range(n):\n",
    "    print(a[i])"
   ]
  },
  {
   "cell_type": "code",
   "execution_count": 16,
   "metadata": {},
   "outputs": [
    {
     "name": "stdout",
     "output_type": "stream",
     "text": [
      "Zebra\n",
      "xray\n"
     ]
    }
   ],
   "source": [
    "a = [\"Zebra\",\"xray\",\"ball\",\"fish\"]\n",
    "for i in a:\n",
    "    if i == \"ball\":\n",
    "        break\n",
    "    print(i)"
   ]
  },
  {
   "cell_type": "code",
   "execution_count": 17,
   "metadata": {},
   "outputs": [
    {
     "name": "stdout",
     "output_type": "stream",
     "text": [
      "Zebra\n",
      "xray\n",
      "fish\n"
     ]
    }
   ],
   "source": [
    "a = [\"Zebra\",\"xray\",\"ball\",\"fish\"]\n",
    "for i in a:\n",
    "    if i == \"ball\":\n",
    "        continue\n",
    "    print(i)"
   ]
  },
  {
   "cell_type": "code",
   "execution_count": 18,
   "metadata": {},
   "outputs": [
    {
     "name": "stdout",
     "output_type": "stream",
     "text": [
      "Yes 2\n"
     ]
    }
   ],
   "source": [
    "a = [\"Zebra\",\"xray\",\"ball\",\"fish\",\"ball\"]\n",
    "if \"ball\" in a:\n",
    "    print(\"Yes\",a.count(\"ball\"))"
   ]
  },
  {
   "cell_type": "code",
   "execution_count": 20,
   "metadata": {},
   "outputs": [
    {
     "name": "stdout",
     "output_type": "stream",
     "text": [
      "['Apple']\n"
     ]
    }
   ],
   "source": [
    "a = list()\n",
    "a.append(\"Apple\")\n",
    "print(a)"
   ]
  },
  {
   "cell_type": "code",
   "execution_count": 24,
   "metadata": {},
   "outputs": [
    {
     "name": "stdout",
     "output_type": "stream",
     "text": [
      "Enter n = 2\n",
      "Enter name = sfsd\n",
      "Enter name = sfd\n",
      "['sfsd', 'sfd']\n"
     ]
    }
   ],
   "source": [
    "a = []\n",
    "n = int(input(\"Enter n = \"))\n",
    "for i in range(n):\n",
    "    name = input(\"Enter name = \")\n",
    "    a.append(name)\n",
    "print(a)"
   ]
  },
  {
   "cell_type": "code",
   "execution_count": 25,
   "metadata": {},
   "outputs": [
    {
     "name": "stdout",
     "output_type": "stream",
     "text": [
      "['Zebra', 'xray', 'Bag', 'ball', 'fish']\n"
     ]
    }
   ],
   "source": [
    "a = [\"Zebra\",\"xray\",\"ball\",\"fish\"]\n",
    "a.insert(2,\"Bag\")\n",
    "print(a)"
   ]
  },
  {
   "cell_type": "code",
   "execution_count": 27,
   "metadata": {},
   "outputs": [
    {
     "name": "stdout",
     "output_type": "stream",
     "text": [
      "['Zebra', 'Xray', 'ball', 'fish']\n"
     ]
    }
   ],
   "source": [
    "a = [\"Zebra\",\"xray\",\"ball\",\"fish\"]\n",
    "a[1] = 'Xray'\n",
    "print(a)"
   ]
  },
  {
   "cell_type": "code",
   "execution_count": 28,
   "metadata": {},
   "outputs": [
    {
     "name": "stdout",
     "output_type": "stream",
     "text": [
      "['xray', 'ball', 'fish']\n"
     ]
    }
   ],
   "source": [
    "a = [\"Zebra\",\"xray\",\"ball\",\"fish\"]\n",
    "del a[0]\n",
    "print(a)"
   ]
  },
  {
   "cell_type": "code",
   "execution_count": 30,
   "metadata": {},
   "outputs": [
    {
     "name": "stdout",
     "output_type": "stream",
     "text": [
      "['xray', 'fish']\n"
     ]
    }
   ],
   "source": [
    "a = [\"Zebra\",\"xray\",\"ball\",\"fish\"]\n",
    "del a[0:4:2]\n",
    "print(a)"
   ]
  },
  {
   "cell_type": "code",
   "execution_count": 32,
   "metadata": {},
   "outputs": [
    {
     "data": {
      "text/plain": [
       "2"
      ]
     },
     "execution_count": 32,
     "metadata": {},
     "output_type": "execute_result"
    }
   ],
   "source": [
    "a = [\"Zebra\",\"xray\",\"ball\",\"fish\"]\n",
    "a.index(\"ball\")"
   ]
  },
  {
   "cell_type": "code",
   "execution_count": 33,
   "metadata": {},
   "outputs": [
    {
     "name": "stdout",
     "output_type": "stream",
     "text": [
      "['Zebra', 'xray', 'fish']\n"
     ]
    }
   ],
   "source": [
    "a = [\"Zebra\",\"xray\",\"ball\",\"fish\"]\n",
    "a.remove(\"ball\")\n",
    "print(a)"
   ]
  },
  {
   "cell_type": "code",
   "execution_count": 37,
   "metadata": {},
   "outputs": [
    {
     "name": "stdout",
     "output_type": "stream",
     "text": [
      "xray\n",
      "['Zebra', 'ball', 'fish']\n"
     ]
    }
   ],
   "source": [
    "a = [\"Zebra\",\"xray\",\"ball\",\"fish\"]\n",
    "b = a.pop(1)\n",
    "print(b)\n",
    "print(a)"
   ]
  },
  {
   "cell_type": "code",
   "execution_count": 40,
   "metadata": {},
   "outputs": [
    {
     "name": "stdout",
     "output_type": "stream",
     "text": [
      "['Zebra', 'xray', 'fish', 'ball']\n"
     ]
    }
   ],
   "source": [
    "a = [\"Zebra\",\"xray\",\"ball\",\"fish\",\"ball\"]\n",
    "n = a.count(\"ball\")\n",
    "for i in range(n-1):\n",
    "    a.remove(\"ball\")\n",
    "print(a)"
   ]
  },
  {
   "cell_type": "code",
   "execution_count": 47,
   "metadata": {},
   "outputs": [
    {
     "name": "stdout",
     "output_type": "stream",
     "text": [
      "2\n",
      "2\n"
     ]
    }
   ],
   "source": [
    "a = [\"Zebra\",\"xray\",\"ball\",\"fish\",\"ball\"]\n",
    "for i in a:\n",
    "    if i == \"ball\":\n",
    "        n = a.index(\"ball\")\n",
    "        print(n)"
   ]
  },
  {
   "cell_type": "code",
   "execution_count": 50,
   "metadata": {},
   "outputs": [
    {
     "name": "stdout",
     "output_type": "stream",
     "text": [
      "0\n",
      "3\n"
     ]
    }
   ],
   "source": [
    "a = [\"ball\",\"Zebra\",\"xray\",\"ball\",\"fish\"]\n",
    "for i in range(len(a)):\n",
    "    if a[i] == \"ball\":\n",
    "        \n",
    "        print(i)"
   ]
  },
  {
   "cell_type": "code",
   "execution_count": 51,
   "metadata": {},
   "outputs": [
    {
     "name": "stdout",
     "output_type": "stream",
     "text": [
      "0\n",
      "3\n",
      "[0, 3]\n"
     ]
    }
   ],
   "source": [
    "index = []\n",
    "a = [\"ball\",\"Zebra\",\"xray\",\"ball\",\"fish\"]\n",
    "for i in range(len(a)):\n",
    "    if a[i] == \"ball\":\n",
    "        \n",
    "        print(i)\n",
    "        index.append(i)\n",
    "print(index)"
   ]
  },
  {
   "cell_type": "code",
   "execution_count": 1,
   "metadata": {},
   "outputs": [
    {
     "name": "stdout",
     "output_type": "stream",
     "text": [
      "[[], [], [], []]\n",
      "4\n"
     ]
    }
   ],
   "source": [
    "# list inside list\n",
    "a = [[],[],[],[]]\n",
    "print(a)\n",
    "print(len(a))"
   ]
  },
  {
   "cell_type": "code",
   "execution_count": 5,
   "metadata": {},
   "outputs": [
    {
     "name": "stdout",
     "output_type": "stream",
     "text": [
      "[[1, 2, 3], [4, 5, 6], [7, 8, 9]]\n",
      "3\n"
     ]
    }
   ],
   "source": [
    "a = [[1,2,3],\n",
    "     [4,5,6],\n",
    "     [7,8,9]]\n",
    "print(a)\n",
    "print(len(a))"
   ]
  },
  {
   "cell_type": "code",
   "execution_count": 12,
   "metadata": {},
   "outputs": [
    {
     "name": "stdout",
     "output_type": "stream",
     "text": [
      "4\n"
     ]
    }
   ],
   "source": [
    "a = [[1,2,3]]\n",
    "b = [4,5,6]\n",
    "c = a+b\n",
    "print(len(c))"
   ]
  },
  {
   "cell_type": "code",
   "execution_count": 13,
   "metadata": {},
   "outputs": [
    {
     "name": "stdout",
     "output_type": "stream",
     "text": [
      "[[1, 2, 3], [4, 5, 6]]\n"
     ]
    }
   ],
   "source": [
    "a = [[1,2,3]]\n",
    "b = [[4,5,6]]\n",
    "print(a+b)"
   ]
  },
  {
   "cell_type": "code",
   "execution_count": 14,
   "metadata": {},
   "outputs": [
    {
     "name": "stdout",
     "output_type": "stream",
     "text": [
      "Enter i = 2\n",
      "Enter j = 2\n",
      "Enter x = 23\n",
      "Enter x = 35\n",
      "Enter x = 32\n",
      "Enter x = 34\n",
      "[[23, 35], [32, 34]]\n"
     ]
    }
   ],
   "source": [
    "my_list = []\n",
    "i = int(input(\"Enter i = \"))\n",
    "j = int(input(\"Enter j = \"))\n",
    "for a in range(i):\n",
    "    my_list1 = []\n",
    "    for b in range(j):\n",
    "        x = int(input(\"Enter x = \"))\n",
    "        my_list1.append(x)\n",
    "    \n",
    "    my_list.append(my_list1)\n",
    "    \n",
    "print(my_list)"
   ]
  },
  {
   "cell_type": "code",
   "execution_count": 15,
   "metadata": {},
   "outputs": [
    {
     "name": "stdout",
     "output_type": "stream",
     "text": [
      "Enter n = 2\n",
      "Enter name = ads\n",
      "Enter phone = 2332432\n",
      "Enter name = asdasd\n",
      "Enter phone = 2434\n",
      "ads---2332432\n",
      "asdasd---2434\n",
      "\n"
     ]
    }
   ],
   "source": [
    "s = \"\"\n",
    "n = int(input(\"Enter n = \"))\n",
    "for i in range(n):\n",
    "    name = input(\"Enter name = \")\n",
    "    phone = input(\"Enter phone = \")\n",
    "    info = f\"{name}---{phone}\\n\"\n",
    "    s = s+info\n",
    "print(s)"
   ]
  },
  {
   "cell_type": "code",
   "execution_count": 16,
   "metadata": {},
   "outputs": [
    {
     "data": {
      "text/plain": [
       "['ads---2332432', 'asdasd---2434', '']"
      ]
     },
     "execution_count": 16,
     "metadata": {},
     "output_type": "execute_result"
    }
   ],
   "source": [
    "s.split('\\n')"
   ]
  },
  {
   "cell_type": "code",
   "execution_count": 17,
   "metadata": {},
   "outputs": [
    {
     "data": {
      "text/plain": [
       "['ads---2332432', 'asdasd---2434']"
      ]
     },
     "execution_count": 17,
     "metadata": {},
     "output_type": "execute_result"
    }
   ],
   "source": [
    "x = s.split('\\n')[0:-1]\n",
    "x"
   ]
  },
  {
   "cell_type": "code",
   "execution_count": 21,
   "metadata": {},
   "outputs": [
    {
     "data": {
      "text/plain": [
       "[['ads', '2332432'], ['asdasd', '2434']]"
      ]
     },
     "execution_count": 21,
     "metadata": {},
     "output_type": "execute_result"
    }
   ],
   "source": [
    "data = []\n",
    "for i in range(2):\n",
    "    y = x[i].split('---')\n",
    "    data.append(y)\n",
    "data"
   ]
  },
  {
   "cell_type": "code",
   "execution_count": 22,
   "metadata": {},
   "outputs": [
    {
     "name": "stdout",
     "output_type": "stream",
     "text": [
      "Enter n = 2\n",
      "Enter name = ffssfd\n",
      "Enter phone = 3453\n",
      "Enter name = cdfdf\n",
      "Enter phone = 34543\n",
      "[['ffssfd', '3453'], ['cdfdf', '34543']]\n"
     ]
    }
   ],
   "source": [
    "data = []\n",
    "n = int(input(\"Enter n = \"))\n",
    "for i in range(n):\n",
    "    name = input(\"Enter name = \")\n",
    "    phone = input(\"Enter phone = \")\n",
    "    info = [name,phone]\n",
    "    data.append(info)\n",
    "print(data)"
   ]
  },
  {
   "cell_type": "code",
   "execution_count": null,
   "metadata": {},
   "outputs": [],
   "source": [
    "data = []\n",
    "n = int(input(\"Enter n = \"))\n",
    "for i in range(n):\n",
    "    name = input(\"Enter name = \")\n",
    "    phone = input(\"Enter phone = \")\n",
    "    info = [[name,phone]]\n",
    "    data = data+info\n",
    "print(data)"
   ]
  },
  {
   "cell_type": "code",
   "execution_count": 31,
   "metadata": {},
   "outputs": [
    {
     "data": {
      "text/plain": [
       "'Shyam'"
      ]
     },
     "execution_count": 31,
     "metadata": {},
     "output_type": "execute_result"
    }
   ],
   "source": [
    "a = [['Ram',9806776554],['Shyam',9878776765]]\n",
    "a[1][0]"
   ]
  },
  {
   "cell_type": "code",
   "execution_count": 32,
   "metadata": {},
   "outputs": [
    {
     "name": "stdout",
     "output_type": "stream",
     "text": [
      "['Ram', 9806776554]\n",
      "['Shyam', 9878776765]\n"
     ]
    }
   ],
   "source": [
    "for i in a:\n",
    "    print(i)"
   ]
  },
  {
   "cell_type": "code",
   "execution_count": 34,
   "metadata": {},
   "outputs": [
    {
     "data": {
      "text/plain": [
       "[['Ram', 9806776554], ['Shyam', 9878776765]]"
      ]
     },
     "execution_count": 34,
     "metadata": {},
     "output_type": "execute_result"
    }
   ],
   "source": [
    "a = [['Ram',9806776554],['Shyam',9878776765],['Shyam',9878776765],['Shyam',9878776765]]\n",
    "a[0:4:2]"
   ]
  },
  {
   "cell_type": "code",
   "execution_count": 38,
   "metadata": {},
   "outputs": [
    {
     "name": "stdout",
     "output_type": "stream",
     "text": [
      "[['Ram Prasad', 9806776554], ['Shyam', 9878776765]]\n"
     ]
    }
   ],
   "source": [
    "a = [['Ram',9806776554],['Shyam',9878776765]]\n",
    "a[0][0] = \"Ram Prasad\"\n",
    "print(a)"
   ]
  },
  {
   "cell_type": "code",
   "execution_count": 41,
   "metadata": {},
   "outputs": [
    {
     "name": "stdout",
     "output_type": "stream",
     "text": [
      "[[9806776554], ['Shyam', 9878776765]]\n"
     ]
    }
   ],
   "source": [
    "a = [['Ram',9806776554],['Shyam',9878776765]]\n",
    "del a[0][0]\n",
    "print(a)"
   ]
  },
  {
   "cell_type": "code",
   "execution_count": 42,
   "metadata": {},
   "outputs": [
    {
     "name": "stdout",
     "output_type": "stream",
     "text": [
      "[['Shyam', 9878776765]]\n"
     ]
    }
   ],
   "source": [
    "a = [['Ram',9806776554],['Shyam',9878776765]]\n",
    "a.remove(a[0])\n",
    "print(a)"
   ]
  },
  {
   "cell_type": "code",
   "execution_count": 45,
   "metadata": {},
   "outputs": [
    {
     "name": "stdout",
     "output_type": "stream",
     "text": [
      "Enter n = 2\n",
      "Enter name = Ram\n",
      "Enter physics marks = 89\n",
      "Enter chemistry marks = 909\n",
      "Enter math marks = 87\n",
      "Enter english marks = 90\n",
      "Enter nepali marks = 78\n",
      "Enter name = Shyam\n",
      "Enter physics marks = 89\n",
      "Enter chemistry marks = 76\n",
      "Enter math marks = 90\n",
      "Enter english marks = 67\n",
      "Enter nepali marks = 87\n"
     ]
    },
    {
     "data": {
      "text/plain": [
       "[[1, 'Ram', 89, 909, 87, 90, 78, 1253, 250.6],\n",
       " [2, 'Shyam', 89, 76, 90, 67, 87, 409, 81.8]]"
      ]
     },
     "execution_count": 45,
     "metadata": {},
     "output_type": "execute_result"
    }
   ],
   "source": [
    "result =[]\n",
    "n = int(input(\"Enter n = \"))\n",
    "for i in range(1,n+1):\n",
    "    name = input(\"Enter name = \")\n",
    "    physics = int(input(\"Enter physics marks = \"))\n",
    "    chemistry = int(input(\"Enter chemistry marks = \"))\n",
    "    math = int(input(\"Enter math marks = \"))\n",
    "    english = int(input(\"Enter english marks = \"))\n",
    "    nepali = int(input(\"Enter nepali marks = \"))\n",
    "    total = sum([physics,chemistry,math,english,nepali])\n",
    "    per = total/5\n",
    "    data = [i,name,physics,chemistry,math,english,nepali,total,per]\n",
    "    result.append(data)\n",
    "result"
   ]
  },
  {
   "cell_type": "code",
   "execution_count": 49,
   "metadata": {},
   "outputs": [
    {
     "name": "stdout",
     "output_type": "stream",
     "text": [
      "Enter roll = 1\n"
     ]
    },
    {
     "data": {
      "text/plain": [
       "[1, 'Ram', 89, 909, 87, 90, 78, 1253, 250.6]"
      ]
     },
     "execution_count": 49,
     "metadata": {},
     "output_type": "execute_result"
    }
   ],
   "source": [
    "roll = int(input(\"Enter roll = \"))\n",
    "result[roll-1]"
   ]
  },
  {
   "cell_type": "code",
   "execution_count": 56,
   "metadata": {},
   "outputs": [
    {
     "data": {
      "text/plain": [
       "[[1, 'Ram', 98, 909, 87, 90, 78, 1262, 252.4],\n",
       " [2, 'Shyam', 89, 76, 90, 67, 87, 409, 81.8]]"
      ]
     },
     "execution_count": 56,
     "metadata": {},
     "output_type": "execute_result"
    }
   ],
   "source": [
    "result[0][2]=98\n",
    "\n",
    "\n",
    "s = result[0][2:7]\n",
    "s\n",
    "net_sum = sum(s)\n",
    "result[0][7] = net_sum\n",
    "result\n",
    "result[0][-1] = net_sum/5\n",
    "print(result)"
   ]
  },
  {
   "cell_type": "code",
   "execution_count": null,
   "metadata": {},
   "outputs": [],
   "source": [
    "# WAP for Billing System"
   ]
  }
 ],
 "metadata": {
  "kernelspec": {
   "display_name": "Python 3",
   "language": "python",
   "name": "python3"
  },
  "language_info": {
   "codemirror_mode": {
    "name": "ipython",
    "version": 3
   },
   "file_extension": ".py",
   "mimetype": "text/x-python",
   "name": "python",
   "nbconvert_exporter": "python",
   "pygments_lexer": "ipython3",
   "version": "3.7.1"
  }
 },
 "nbformat": 4,
 "nbformat_minor": 2
}
